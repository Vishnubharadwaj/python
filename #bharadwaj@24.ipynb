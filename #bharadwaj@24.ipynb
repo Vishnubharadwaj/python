{
 "cells": [
  {
   "cell_type": "code",
   "execution_count": 26,
   "metadata": {},
   "outputs": [
    {
     "ename": "IndentationError",
     "evalue": "unexpected indent (<ipython-input-26-5e4cc5719aae>, line 8)",
     "output_type": "error",
     "traceback": [
      "\u001b[0;36m  File \u001b[0;32m\"<ipython-input-26-5e4cc5719aae>\"\u001b[0;36m, line \u001b[0;32m8\u001b[0m\n\u001b[0;31m    return sum\u001b[0m\n\u001b[0m    ^\u001b[0m\n\u001b[0;31mIndentationError\u001b[0m\u001b[0;31m:\u001b[0m unexpected indent\n"
     ]
    }
   ],
   "source": [
    "def printEven(n):\n",
    "    cnt=0\n",
    "    sum=0\n",
    "    while(cnt!=0):\n",
    "      if(cnt%2==0):\n",
    "          sum=sum+cnt\n",
    "cnt=cnt+1\n",
    "    return sum\n",
    " \n",
    "print(printEven(20))\n",
    "    "
   ]
  },
  {
   "cell_type": "code",
   "execution_count": null,
   "metadata": {},
   "outputs": [],
   "source": []
  },
  {
   "cell_type": "code",
   "execution_count": 31,
   "metadata": {},
   "outputs": [
    {
     "name": "stdout",
     "output_type": "stream",
     "text": [
      "1 2 3 4 5 6 \n",
      "5\n",
      "[4, 5, 6]\n",
      "[1, 2, 3]\n",
      "[1, 2, 3]\n",
      "[1, 2, 3, 4, 5, 6]\n"
     ]
    }
   ],
   "source": [
    "lst1=[1,2,3,4,5,6]\n",
    "for x in lst1:\n",
    "  print(x,end=\" \")\n",
    "    \n",
    "print()\n",
    "print(lst1[4])\n",
    "print(lst1[3:7])\n",
    "print(lst1[0:3])\n",
    "print(lst1[:3])\n",
    "print(lst1[:7])"
   ]
  },
  {
   "cell_type": "code",
   "execution_count": null,
   "metadata": {},
   "outputs": [],
   "source": [
    "lst1=[1,2,3,4,5,6,7,8,9,10]\n",
    "for x in lst1:\n",
    "    print(x,end=\" \")\n",
    "    \n",
    "print()\n",
    "print(lst1[1:-1])\n",
    "print(lst1[2:-2])\n",
    "print(lst1[::-2])\n",
    "print(lst1[::-3])\n"
   ]
  },
  {
   "cell_type": "code",
   "execution_count": 32,
   "metadata": {},
   "outputs": [
    {
     "name": "stdout",
     "output_type": "stream",
     "text": [
      "['bingii', 'bandaa', 'gutka', 1]\n",
      "['bingii', 'bandaa', 15, 1]\n"
     ]
    }
   ],
   "source": [
    "lst1=[\"bingii\",\"bandaa\",\"gutka\",1]\n",
    "print(lst1)\n",
    "\n",
    "lst1[2]=15\n",
    "print(lst1)\n",
    "\n",
    "\n"
   ]
  },
  {
   "cell_type": "code",
   "execution_count": 35,
   "metadata": {},
   "outputs": [
    {
     "name": "stdout",
     "output_type": "stream",
     "text": [
      "[1, 2, 3, 4, 5]\n",
      "[1, 2, 4, 5]\n",
      "4\n"
     ]
    }
   ],
   "source": [
    "lst1=[1,2,3,4,5]\n",
    "print(lst1)\n",
    "del lst1[2]\n",
    "print(lst1)\n",
    "#lst1[4]= 15\n",
    "print(len(lst1))"
   ]
  },
  {
   "cell_type": "code",
   "execution_count": 10,
   "metadata": {},
   "outputs": [
    {
     "name": "stdout",
     "output_type": "stream",
     "text": [
      "[1, 2, 3, 4, 5]\n",
      "[1, 2, 4, 5]\n",
      "4\n",
      "[1, 2, 4, 5, 15]\n"
     ]
    }
   ],
   "source": [
    "lst1=[1,2,3,4,5]\n",
    "print(lst1)\n",
    "del lst1[2]\n",
    "print(lst1)\n",
    "#lst1[4]= 15\n",
    "print(len(lst1))\n",
    "lst1.append(15)\n",
    "print(lst1)"
   ]
  },
  {
   "cell_type": "code",
   "execution_count": null,
   "metadata": {},
   "outputs": [],
   "source": [
    "def listtonum(a,teritem):\n",
    "    for x in listtonum(a):\n",
    "        while(i!=a):\n",
    "            list[]\n",
    "            list=append[x]:\n",
    "            \n",
    "                       \n",
    "            \n",
    "            "
   ]
  },
  {
   "cell_type": "code",
   "execution_count": null,
   "metadata": {},
   "outputs": [],
   "source": []
  }
 ],
 "metadata": {
  "kernelspec": {
   "display_name": "Python 3",
   "language": "python",
   "name": "python3"
  },
  "language_info": {
   "codemirror_mode": {
    "name": "ipython",
    "version": 3
   },
   "file_extension": ".py",
   "mimetype": "text/x-python",
   "name": "python",
   "nbconvert_exporter": "python",
   "pygments_lexer": "ipython3",
   "version": "3.7.3"
  }
 },
 "nbformat": 4,
 "nbformat_minor": 2
}
